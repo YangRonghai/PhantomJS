{
 "metadata": {
  "name": "",
  "signature": "sha256:c307cf2a579a3413f1fffcbc828043ab9621a9b33d5e4db3246b138d1e4f44ae"
 },
 "nbformat": 3,
 "nbformat_minor": 0,
 "worksheets": [
  {
   "cells": [
    {
     "cell_type": "code",
     "collapsed": false,
     "input": [
      "from selenium import webdriver\n",
      "from selenium.webdriver.common.keys import Keys\n",
      "\n",
      "driver = webdriver.Firefox()\n",
      "driver.get(\"http://www.python.org\")\n",
      "assert \"Python\" in driver.title\n",
      "elem = driver.find_element_by_name(\"q\")\n",
      "elem.send_keys(\"pycon\")\n",
      "elem.send_keys(Keys.RETURN)\n",
      "assert \"No results found.\" not in driver.page_source\n",
      "driver.close()"
     ],
     "language": "python",
     "metadata": {},
     "outputs": []
    }
   ],
   "metadata": {}
  }
 ]
}