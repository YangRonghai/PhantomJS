{
 "metadata": {
  "name": "",
  "signature": "sha256:1614442c3f5e94fcb15519ca9a73b7131420c7f80c771c95647e98532cb6ea62"
 },
 "nbformat": 3,
 "nbformat_minor": 0,
 "worksheets": [
  {
   "cells": [
    {
     "cell_type": "markdown",
     "metadata": {},
     "source": [
      "# <center>Headless Testing of Web Applications with PhantomJS and Python</center>\n",
      "\n",
      "**PhantomJS** is a headless Webkit, which has a number of uses.\n",
      "\n",
      "1. Headless Testing\n",
      "2. Page Automation\n",
      "3. Network Monitoring\n",
      "4. Screen Capture\n",
      "\n",
      "**The power is entirely up to you.**"
     ]
    },
    {
     "cell_type": "markdown",
     "metadata": {},
     "source": [
      "## Setup\n",
      "\n",
      "Install PhantomJS & Selenium with **pip** and **Brew**"
     ]
    },
    {
     "cell_type": "code",
     "collapsed": false,
     "input": [
      "!brew install phantomjs\n",
      "\n",
      "## Testing Framework\n",
      "!pip install selenium"
     ],
     "language": "python",
     "metadata": {},
     "outputs": []
    },
    {
     "cell_type": "markdown",
     "metadata": {},
     "source": [
      "https://github.com/eugene1g/phantomjs/releases"
     ]
    },
    {
     "cell_type": "markdown",
     "metadata": {},
     "source": [
      "## Page Automation"
     ]
    },
    {
     "cell_type": "code",
     "collapsed": false,
     "input": [
      "from selenium import webdriver\n",
      "from selenium.webdriver.common.keys import Keys\n",
      "\n",
      "driver = webdriver.Firefox()\n",
      "driver.get(\"http://www.python.org\")\n",
      "assert \"Python\" in driver.title\n",
      "elem = driver.find_element_by_name(\"q\")\n",
      "elem.send_keys(\"pycon\")\n",
      "elem.send_keys(Keys.RETURN)\n",
      "assert \"No results found.\" not in driver.page_source\n"
     ],
     "language": "python",
     "metadata": {},
     "outputs": [],
     "prompt_number": 98
    },
    {
     "cell_type": "code",
     "collapsed": false,
     "input": [
      "driver.close()"
     ],
     "language": "python",
     "metadata": {},
     "outputs": [],
     "prompt_number": 99
    },
    {
     "cell_type": "markdown",
     "metadata": {},
     "source": [
      "## Using Selenium to write tests"
     ]
    },
    {
     "cell_type": "code",
     "collapsed": false,
     "input": [
      "from selenium import webdriver\n",
      "from selenium.webdriver.common.keys import Keys\n",
      "import time\n",
      "\n",
      "driver = webdriver.Firefox()\n",
      "driver.get(\"http://www.openrice.com/en/hongkong\")\n",
      "time.sleep(5)\n"
     ],
     "language": "python",
     "metadata": {},
     "outputs": [],
     "prompt_number": 2
    },
    {
     "cell_type": "markdown",
     "metadata": {},
     "source": [
      "## Locating Elements\n",
      "\n",
      "1. find_element_by_id\n",
      "2. find_element_by_name\n",
      "3. find_element_by_xpath\n",
      "4. find_element_by_link_text\n",
      "5. find_element_by_partial_link_text\n",
      "6. find_element_by_tag_name\n",
      "7. find_element_by_class_name\n",
      "8. find_element_by_css_selector\n",
      "\n",
      "To find **multiple elements** (these methods will return a list):\n",
      "\n",
      "1. find_element**s**_by_name\n",
      "2. find_elements_by_xpath\n",
      "3. find_elements_by_link_text\n",
      "4. find_elements_by_partial_link_text\n",
      "5. find_elements_by_tag_name\n",
      "6. find_elements_by_class_name\n",
      "7. find_elements_by_css_selector\n",
      " "
     ]
    },
    {
     "cell_type": "code",
     "collapsed": false,
     "input": [
      "element=driver.find_element_by_id(\"htb_login\")\n",
      "element.click()"
     ],
     "language": "python",
     "metadata": {},
     "outputs": [],
     "prompt_number": 3
    },
    {
     "cell_type": "code",
     "collapsed": false,
     "input": [
      "fb=driver.find_element_by_xpath('//*[@id=\"htb_login_active_bottom\"]/a[1]/div/span[1]')\n",
      "fb.click()"
     ],
     "language": "python",
     "metadata": {},
     "outputs": [],
     "prompt_number": 4
    },
    {
     "cell_type": "code",
     "collapsed": false,
     "input": [
      "### submit form\n",
      "\n",
      "## You may need to use your own account\n",
      "email = driver.find_element_by_css_selector(\"#email\")\n",
      "email.send_keys(\"alicesinglesignon@gmail.com\")\n",
      "password = driver.find_element_by_class_name(\"inputpassword\")\n",
      "password.send_keys(\"xxxxxx\")\n",
      "driver.find_element_by_name(\"login\").submit()\n"
     ],
     "language": "python",
     "metadata": {},
     "outputs": [],
     "prompt_number": 106
    },
    {
     "cell_type": "code",
     "collapsed": false,
     "input": [
      "time.sleep(2)\n",
      "confirm = driver.find_element_by_xpath('//*[@id=\"platformDialogForm\"]/div[2]/table/tbody/tr/td[2]/button[2]')\n",
      "\n",
      "confirm.click()"
     ],
     "language": "python",
     "metadata": {},
     "outputs": [],
     "prompt_number": 107
    },
    {
     "cell_type": "code",
     "collapsed": false,
     "input": [
      "driver.find_element_by_id('platformDialogForm').click()\n",
      "\n",
      "#driver.find_element_by_class_name('_5lnf uiOverlayFooter _5a8u _5eh1')\n",
      "confirm_manage = driver.find_element_by_name('__CONFIRM__')\n",
      "\n",
      "confirm_manage.click()"
     ],
     "language": "python",
     "metadata": {},
     "outputs": [],
     "prompt_number": 108
    },
    {
     "cell_type": "code",
     "collapsed": false,
     "input": [
      "driver.find_element_by_id('platformDialogForm').click()\n",
      "\n",
      "#driver.find_element_by_class_name('_5lnf uiOverlayFooter _5a8u _5eh1')\n",
      "confirm_manage2 = driver.find_element_by_name('__CONFIRM__')\n",
      "\n",
      "confirm_manage2.click()"
     ],
     "language": "python",
     "metadata": {},
     "outputs": [],
     "prompt_number": 109
    },
    {
     "cell_type": "markdown",
     "metadata": {},
     "source": [
      "## Waits\n",
      "\n",
      "operate the web page before the page is loaded?\n",
      "\n",
      "time.sleep(5)?\n",
      "network & file size varies\n",
      "\n",
      "efficiency vs. utility"
     ]
    },
    {
     "cell_type": "code",
     "collapsed": false,
     "input": [
      "from selenium import webdriver\n",
      "from selenium.webdriver.common.keys import Keys\n",
      "import time\n",
      "\n",
      "driver_test = webdriver.Firefox()\n",
      "driver_test.get(\"http://www.openrice.com/en/hongkong\")\n",
      "time.sleep(10)\n",
      "element=driver_test.find_element_by_id(\"htb_login\")\n",
      "element.click()\n",
      "\n"
     ],
     "language": "python",
     "metadata": {},
     "outputs": [],
     "prompt_number": 52
    },
    {
     "cell_type": "markdown",
     "metadata": {},
     "source": [
      "### Explicit Waits\n",
      "\n",
      "An explicit waits is code you define to wait for a certain condition to occur before proceeding further in the code.\n",
      "There are some convenience methods provided that help you write code that will wait only as long as required. WebDriverWait in combination with ExpectedCondition is one way this can be accomplished.\n",
      "\n",
      "There are some common conditions that are frequent when automating web browsers. Listed below are Implementations of each. Selenium Python binding provides some convienence methods so you don\u2019t have to code an expected_condition class yourself or create your own utility package for them.\n",
      "\n",
      "1. title_is\n",
      "2. title_contains\n",
      "3. presence_of_element_located\n",
      "4. frame_to_be_available_and_switch_to_it\n",
      "5. alert_is_present\n",
      "6. ..."
     ]
    },
    {
     "cell_type": "code",
     "collapsed": false,
     "input": [
      "from selenium.webdriver.common.by import By\n",
      "from selenium.webdriver.support.ui import WebDriverWait\n",
      "from selenium.webdriver.support import expected_conditions as EC\n",
      "\n",
      "driver_test.get(\"http://www.openrice.com/en/hongkong\")\n",
      "try:\n",
      "    element = WebDriverWait(driver_test, 10).until(\n",
      "        EC.presence_of_element_located((By.ID, \"htb_login\"))\n",
      "    )\n",
      "finally:\n",
      "    driver_test.quit()"
     ],
     "language": "python",
     "metadata": {},
     "outputs": [],
     "prompt_number": 53
    },
    {
     "cell_type": "markdown",
     "metadata": {},
     "source": [
      "### Implicit Waits\n",
      "\n",
      "An implicit wait is to tell WebDriver to poll the DOM for a certain amount of time when trying to find an element or elements if they are not immediately available. The default setting is 0. Once set, the implicit wait is set for the life of the WebDriver object instance.\n"
     ]
    },
    {
     "cell_type": "code",
     "collapsed": false,
     "input": [
      "from selenium import webdriver\n",
      "\n",
      "driver = webdriver.Firefox()\n",
      "driver.implicitly_wait(10) # seconds\n",
      "driver.get(\"http://www.openrice.com/en/hongkong\")\n",
      "login = driver.find_element_by_id(\"htb_login\")\n",
      "login.click()\n",
      "driver.close()"
     ],
     "language": "python",
     "metadata": {},
     "outputs": [],
     "prompt_number": 55
    },
    {
     "cell_type": "markdown",
     "metadata": {},
     "source": [
      "## What's next?\n",
      "\n",
      "1. Multiple Windows/ Frames\n",
      "2. Cookies\n",
      "3. Collect request/ response information\n",
      "4. ..."
     ]
    },
    {
     "cell_type": "markdown",
     "metadata": {},
     "source": [
      "## Differences with Selenium & PhantomJS\n",
      "\n",
      "1. Efficiency\n",
      "2. Stability\n",
      "3. Extensions\n",
      "..."
     ]
    },
    {
     "cell_type": "code",
     "collapsed": false,
     "input": [
      "import unittest\n",
      "from selenium import webdriver\n",
      "import time\n",
      "\n",
      "\n",
      "class Test(unittest.TestCase):\n",
      "\n",
      "    def setUp(self):\n",
      "        self.startTime = time.time()\n",
      "\n",
      "    def test_url_fire(self):\n",
      "        time.sleep(2)\n",
      "        self.driver = webdriver.Chrome()\n",
      "        self.driver.get(\"https://app.simplegoods.co/i/IQCZADOY\") # url associated with button click\n",
      "        button = self.driver.find_element_by_id(\"payment-submit\").get_attribute(\"value\")\n",
      "        self.assertEquals(u'Pay - $60.00', button)\n",
      "\n",
      "    def test_url_phantom(self):\n",
      "        time.sleep(1)\n",
      "        self.driver = webdriver.PhantomJS()\n",
      "        self.driver.get(\"https://app.simplegoods.co/i/IQCZADOY\") # url associated with button click\n",
      "        button = self.driver.find_element_by_id(\"payment-submit\").get_attribute(\"value\")\n",
      "        self.assertEquals(u'Pay - $60.00', button)\n",
      "\n",
      "    def tearDown(self):\n",
      "        t = time.time() - self.startTime\n",
      "        print \"%s: %.3f\" % (self.id(), t)\n",
      "        self.driver.quit()\n",
      "\n",
      "if __name__ == '__main__':\n",
      "    suite = unittest.TestLoader().loadTestsFromTestCase(Test)\n",
      "    unittest.TextTestRunner(verbosity=0).run(suite)"
     ],
     "language": "python",
     "metadata": {},
     "outputs": [
      {
       "output_type": "stream",
       "stream": "stdout",
       "text": [
        "__main__.Test.test_url_fire: 8.613\n",
        "__main__.Test.test_url_phantom: 7.398"
       ]
      },
      {
       "output_type": "stream",
       "stream": "stdout",
       "text": [
        "\n"
       ]
      },
      {
       "output_type": "stream",
       "stream": "stderr",
       "text": [
        "----------------------------------------------------------------------\n",
        "Ran 2 tests in 16.081s\n",
        "\n",
        "OK\n"
       ]
      }
     ],
     "prompt_number": 110
    },
    {
     "cell_type": "markdown",
     "metadata": {},
     "source": [
      "## Use PhantomJS to test the security of OAuth \n",
      "\n",
      "<img src=\"process.png\" width=\"60%\" height=\"60%\">"
     ]
    },
    {
     "cell_type": "markdown",
     "metadata": {},
     "source": [
      "<img src=\"result.png\">"
     ]
    },
    {
     "cell_type": "markdown",
     "metadata": {},
     "source": [
      "## Limitations\n",
      "\n",
      "1. Large Scale Testing\n",
      "2. Mobile Applications\n",
      "\n",
      "\n",
      "<img src=\"mobile.png\">"
     ]
    },
    {
     "cell_type": "code",
     "collapsed": false,
     "input": [
      "from IPython.display import HTML\n",
      "HTML('<iframe src=http://selenium-python.readthedocs.org/en/latest width=700 height=350></iframe>')"
     ],
     "language": "python",
     "metadata": {},
     "outputs": [
      {
       "html": [
        "<iframe src=http://selenium-python.readthedocs.org/en/latest width=700 height=350></iframe>"
       ],
       "metadata": {},
       "output_type": "pyout",
       "prompt_number": 71,
       "text": [
        "<IPython.core.display.HTML at 0x10ae70510>"
       ]
      }
     ],
     "prompt_number": 71
    }
   ],
   "metadata": {}
  }
 ]
}